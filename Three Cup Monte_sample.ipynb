{
 "cells": [
  {
   "cell_type": "markdown",
   "id": "cfb01950",
   "metadata": {},
   "source": [
    "# #Three Cup Monte\n",
    "\n",
    "#You guess under which cup the ball is hidden\n",
    "#Insert a number 0, 1 or 2\n",
    "#If the number happens to be correct with the shuffled number you're a winner else, you're 'Wrong, Try again!'"
   ]
  },
  {
   "cell_type": "code",
   "execution_count": 1,
   "id": "4db20378",
   "metadata": {},
   "outputs": [],
   "source": [
    "mylist=[' ','0',' ']"
   ]
  },
  {
   "cell_type": "code",
   "execution_count": 2,
   "id": "3b41e2d6",
   "metadata": {},
   "outputs": [],
   "source": [
    "from random import shuffle"
   ]
  },
  {
   "cell_type": "code",
   "execution_count": 3,
   "id": "2dc27d8e",
   "metadata": {},
   "outputs": [],
   "source": [
    "def shuffle_list(mylist):\n",
    "    shuffle(mylist)\n",
    "    \n",
    "    return mylist"
   ]
  },
  {
   "cell_type": "code",
   "execution_count": 4,
   "id": "bc096e0f",
   "metadata": {},
   "outputs": [],
   "source": [
    "def playerguess():\n",
    "    \n",
    "    guess=''\n",
    "    \n",
    "    while guess not in['0','1','2']:\n",
    "        guess =input('Put a number: 0,1 or 2')\n",
    "        \n",
    "        \n",
    "    return int(guess)\n",
    "        \n",
    "        \n",
    "    "
   ]
  },
  {
   "cell_type": "code",
   "execution_count": 5,
   "id": "de258db1",
   "metadata": {},
   "outputs": [],
   "source": [
    "def check_guess (mylist, guess):\n",
    "    \n",
    "    if mylist[guess] =='0':\n",
    "        print('Winner')\n",
    "        return 'Winner'\n",
    "    else:\n",
    "        print ('Wrong, Try again!')\n",
    "        print(mylist)"
   ]
  },
  {
   "cell_type": "code",
   "execution_count": 6,
   "id": "45f5f903",
   "metadata": {},
   "outputs": [
    {
     "name": "stdout",
     "output_type": "stream",
     "text": [
      "Put a number: 0,1 or 21\n",
      "Wrong, Try again!\n",
      "[' ', ' ', '0']\n"
     ]
    }
   ],
   "source": [
    "## Logic Script\n",
    "\n",
    "#Mylist\n",
    "mylist=[' ','0', ' ']\n",
    "\n",
    "#MyShuffled_list\n",
    "mixed_list = shuffle_list(mylist)\n",
    "\n",
    "#Playerguess\n",
    "guess = playerguess()\n",
    "\n",
    "#Check the Players guess\n",
    "check_guess(mixed_list, guess)\n"
   ]
  },
  {
   "cell_type": "markdown",
   "id": "8e6995a9",
   "metadata": {},
   "source": []
  }
 ],
 "metadata": {
  "kernelspec": {
   "display_name": "Python 3",
   "language": "python",
   "name": "python3"
  },
  "language_info": {
   "codemirror_mode": {
    "name": "ipython",
    "version": 3
   },
   "file_extension": ".py",
   "mimetype": "text/x-python",
   "name": "python",
   "nbconvert_exporter": "python",
   "pygments_lexer": "ipython3",
   "version": "3.8.8"
  }
 },
 "nbformat": 4,
 "nbformat_minor": 5
}
